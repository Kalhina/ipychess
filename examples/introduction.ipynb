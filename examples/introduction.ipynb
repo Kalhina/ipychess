{
 "cells": [
  {
   "cell_type": "markdown",
   "metadata": {},
   "source": [
    "# Introduction"
   ]
  },
  {
   "cell_type": "code",
   "execution_count": null,
   "metadata": {},
   "outputs": [],
   "source": [
    "import ipychess"
   ]
  },
  {
   "cell_type": "code",
   "execution_count": null,
   "metadata": {},
   "outputs": [],
   "source": [
    "w = ipychess.Board(size=\"700px\")\n",
    "w"
   ]
  },
  {
   "cell_type": "code",
   "execution_count": null,
   "metadata": {},
   "outputs": [],
   "source": [
    "w.orientation=\"white\""
   ]
  },
  {
   "cell_type": "code",
   "execution_count": null,
   "metadata": {},
   "outputs": [],
   "source": [
    "w.fen = \"rnbqk1nr/ppppppbp/8/6p1/2P5/5N2/PP1PPPPP/RNBQKB1R w KQkq - 2 3\""
   ]
  },
  {
   "cell_type": "code",
   "execution_count": null,
   "metadata": {},
   "outputs": [],
   "source": [
    "w.fen"
   ]
  }
 ],
 "metadata": {
  "kernelspec": {
   "display_name": "Python 3 (ipykernel)",
   "language": "python",
   "name": "python3"
  },
  "language_info": {
   "codemirror_mode": {
    "name": "ipython",
    "version": 3
   },
   "file_extension": ".py",
   "mimetype": "text/x-python",
   "name": "python",
   "nbconvert_exporter": "python",
   "pygments_lexer": "ipython3",
   "version": "3.10.4"
  },
  "widgets": {
   "application/vnd.jupyter.widget-state+json": {
    "state": {
     "0fbd8e681feb4c509c339b91cf161709": {
      "model_module": "@jupyter-widgets/base",
      "model_module_version": "1.2.0",
      "model_name": "LayoutModel",
      "state": {}
     },
     "1403e64a3af445b6b8c03482ace590b9": {
      "model_module": "ipychess",
      "model_module_version": "^0.1.0",
      "model_name": "BoardModel",
      "state": {
       "_model_module_version": "^0.1.0",
       "_view_module_version": "^0.1.0",
       "add_piece_z_index": false,
       "animation": {},
       "auto_castle": true,
       "check": false,
       "coordinates": true,
       "disable_context_menu": false,
       "draggable": {},
       "drawable": {},
       "events": {},
       "fen": "rnbqk1nr/p1ppppbp/8/1p4p1/4P3/3P1N2/PPP2PPP/RNBQKB1R w KQkq - 2 4",
       "highlight": {},
       "last_move": [],
       "layout": "IPY_MODEL_38c3238598bc4ee88aa4504dacef474a",
       "movable": {},
       "options": [
        "add_piece_z_index",
        "animation",
        "auto_castle",
        "check",
        "coordinates",
        "disable_context_menu",
        "draggable",
        "drawable",
        "events",
        "fen",
        "highlight",
        "last_move",
        "movable",
        "orientation",
        "predroppable",
        "premovable",
        "resizable",
        "selectable",
        "selected",
        "turn_color",
        "view_only"
       ],
       "orientation": "white",
       "predroppable": {},
       "premovable": {},
       "resizable": true,
       "selectable": {},
       "selected": null,
       "size": "582px",
       "turn_color": "white",
       "view_only": false
      }
     },
     "1467472eb908453980d68e7352277f94": {
      "model_module": "ipychess",
      "model_module_version": "^0.1.0",
      "model_name": "BoardModel",
      "state": {
       "_model_module_version": "^0.1.0",
       "_view_module_version": "^0.1.0",
       "add_piece_z_index": false,
       "animation": {},
       "auto_castle": true,
       "check": false,
       "coordinates": true,
       "disable_context_menu": false,
       "draggable": {},
       "drawable": {},
       "events": {},
       "fen": "rnbqk1nr/p1ppppbp/8/1p4p1/4P3/3P1N2/PPP2PPP/RNBQKB1R w KQkq - 2 4",
       "highlight": {},
       "last_move": [],
       "layout": "IPY_MODEL_aad76360122b43219f6fde884558c68a",
       "movable": {},
       "options": [
        "add_piece_z_index",
        "animation",
        "auto_castle",
        "check",
        "coordinates",
        "disable_context_menu",
        "draggable",
        "drawable",
        "events",
        "fen",
        "highlight",
        "last_move",
        "movable",
        "orientation",
        "predroppable",
        "premovable",
        "resizable",
        "selectable",
        "selected",
        "turn_color",
        "view_only"
       ],
       "orientation": "white",
       "predroppable": {},
       "premovable": {},
       "resizable": true,
       "selectable": {},
       "selected": null,
       "size": "302px",
       "turn_color": "white",
       "view_only": false
      }
     },
     "38c3238598bc4ee88aa4504dacef474a": {
      "model_module": "@jupyter-widgets/base",
      "model_module_version": "1.2.0",
      "model_name": "LayoutModel",
      "state": {}
     },
     "9412390808a34e09962350be2cdc8538": {
      "model_module": "ipychess",
      "model_module_version": "^0.1.0",
      "model_name": "BoardModel",
      "state": {
       "_model_module_version": "^0.1.0",
       "_view_module_version": "^0.1.0",
       "add_piece_z_index": false,
       "animation": {},
       "auto_castle": true,
       "check": false,
       "coordinates": true,
       "disable_context_menu": false,
       "draggable": {},
       "drawable": {},
       "events": {},
       "fen": "rnbqk1nr/p1ppppbp/8/1p4p1/4P3/3P1N2/PPP2PPP/RNBQKB1R w KQkq - 2 4",
       "highlight": {},
       "last_move": [],
       "layout": "IPY_MODEL_0fbd8e681feb4c509c339b91cf161709",
       "movable": {},
       "options": [
        "add_piece_z_index",
        "animation",
        "auto_castle",
        "check",
        "coordinates",
        "disable_context_menu",
        "draggable",
        "drawable",
        "events",
        "fen",
        "highlight",
        "last_move",
        "movable",
        "orientation",
        "predroppable",
        "premovable",
        "resizable",
        "selectable",
        "selected",
        "turn_color",
        "view_only"
       ],
       "orientation": "white",
       "predroppable": {},
       "premovable": {},
       "resizable": true,
       "selectable": {},
       "selected": null,
       "size": "202px",
       "turn_color": "white",
       "view_only": false
      }
     },
     "978ac8facf564659a5c9aeff0ea7d359": {
      "model_module": "ipychess",
      "model_module_version": "^0.1.0",
      "model_name": "BoardModel",
      "state": {
       "_model_module_version": "^0.1.0",
       "_view_module_version": "^0.1.0",
       "add_piece_z_index": false,
       "animation": {},
       "auto_castle": true,
       "check": false,
       "coordinates": true,
       "disable_context_menu": false,
       "draggable": {},
       "drawable": {},
       "events": {},
       "fen": "rnbqk1nr/ppppppbp/8/6p1/2P5/5N2/PP1PPPPP/RNBQKB1R w KQkq - 2 3",
       "highlight": {},
       "last_move": [],
       "layout": "IPY_MODEL_e7e4b7d72aa54772bf723dd223bb2c20",
       "movable": {},
       "options": [
        "add_piece_z_index",
        "animation",
        "auto_castle",
        "check",
        "coordinates",
        "disable_context_menu",
        "draggable",
        "drawable",
        "events",
        "fen",
        "highlight",
        "last_move",
        "movable",
        "orientation",
        "predroppable",
        "premovable",
        "resizable",
        "selectable",
        "selected",
        "turn_color",
        "view_only"
       ],
       "orientation": "white",
       "predroppable": {},
       "premovable": {},
       "resizable": true,
       "selectable": {},
       "selected": null,
       "size": "482px",
       "turn_color": "white",
       "view_only": false
      }
     },
     "aad76360122b43219f6fde884558c68a": {
      "model_module": "@jupyter-widgets/base",
      "model_module_version": "1.2.0",
      "model_name": "LayoutModel",
      "state": {}
     },
     "e7e4b7d72aa54772bf723dd223bb2c20": {
      "model_module": "@jupyter-widgets/base",
      "model_module_version": "1.2.0",
      "model_name": "LayoutModel",
      "state": {}
     }
    },
    "version_major": 2,
    "version_minor": 0
   }
  }
 },
 "nbformat": 4,
 "nbformat_minor": 4
}
